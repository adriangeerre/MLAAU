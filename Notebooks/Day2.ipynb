{
 "cells": [
  {
   "cell_type": "code",
   "execution_count": null,
   "metadata": {},
   "outputs": [],
   "source": [
    "# ###################################\n",
    "# Group ID: 222\n",
    "# Members: Adrián Gómez Repollés, Kresten Johansen, Misbah Unnisa, Mohammadali Zakeriharandi\n",
    "# Date: 19/03/2024\n",
    "# Lecture: 3a Parametric methods\n",
    "# Dependencies: Numpy, Scipy and Matplotlib.\n",
    "# Python version: 3.12.2\n",
    "# Functionality: Jupyter notebook to classify categories using probability calculations\n",
    "# ###################################"
   ]
  },
  {
   "cell_type": "markdown",
   "metadata": {},
   "source": [
    "## Day 2 - Exercise\n",
    "\n",
    "### Exercises for Lecture 4 Dimensionality reduction: download full dataset \"mnist_all.mat\" (or its ASCII version \"mnist_all_ASCII.zip\") under the folder \"Data and code\" above, which is a Matlab format of THE MNIST DATABASE of handwritten digits by Yann LeCun, and Corinna Cortes: A training set of 60,000 examples, and a test set of 10,000 examples; each having a size of 28 x 28 = 784 (concatenating the pixels). Read the linked webpage for more details. "
   ]
  },
  {
   "cell_type": "code",
   "execution_count": 159,
   "metadata": {},
   "outputs": [],
   "source": [
    "## Imports\n",
    "import numpy as np\n",
    "import scipy.io as sio\n",
    "from scipy import linalg\n",
    "import matplotlib.pyplot as plt\n",
    "from scipy.stats import multivariate_normal as norm"
   ]
  },
  {
   "cell_type": "code",
   "execution_count": 4,
   "metadata": {},
   "outputs": [],
   "source": [
    "import os\n",
    "os.chdir(\"..\")"
   ]
  },
  {
   "cell_type": "code",
   "execution_count": 5,
   "metadata": {},
   "outputs": [],
   "source": [
    "## Load data\n",
    "mnist = sio.loadmat('Data/mnist_all.mat')"
   ]
  },
  {
   "cell_type": "code",
   "execution_count": 6,
   "metadata": {},
   "outputs": [],
   "source": [
    "## Split data and normalize\n",
    "\n",
    "# Train\n",
    "train5 = mnist['train5'].astype(np.float32) / 255.\n",
    "train6 = mnist['train6'].astype(np.float32) / 255.\n",
    "train8 = mnist['train8'].astype(np.float32) / 255.\n",
    "\n",
    "# Test\n",
    "test5 = mnist['test5'].astype(np.float32) / 255.\n",
    "test6 = mnist['test6'].astype(np.float32) / 255.\n",
    "test8 = mnist['test8'].astype(np.float32) / 255."
   ]
  },
  {
   "cell_type": "code",
   "execution_count": 7,
   "metadata": {},
   "outputs": [],
   "source": [
    "del mnist"
   ]
  },
  {
   "cell_type": "markdown",
   "metadata": {},
   "source": [
    "**Functions**"
   ]
  },
  {
   "cell_type": "code",
   "execution_count": 115,
   "metadata": {},
   "outputs": [],
   "source": [
    "def PCA_estimation(data, n_components=2):\n",
    "    \"\"\"\n",
    "    Function for PCA estimation\n",
    "\n",
    "    Returns selected eigenvalues and eigenvectors, and the mean of your data\n",
    "    \"\"\"\n",
    "    \n",
    "    # Step 1: compute covariance matrix from data\n",
    "    cov = np.cov(data.T)\n",
    "\n",
    "    # Step 2: compute eigenvalues and eigenvectors from the covariance matrix\n",
    "    # Hint: use eig function in your library of choice\n",
    "    eigvals, eigvecs = linalg.eigh(cov)\n",
    "\n",
    "    # Step 3: Sort the list of eigenvalues in descending order\n",
    "    # Hint: use argsort function in numpy, reverse it\n",
    "    # Select top `n_component` indices\n",
    "    sorted_idxs = np.argsort(eigvals)[::-1]\n",
    "    sorted_idxs = sorted_idxs[:n_components]\n",
    "\n",
    "    # Step 4: Take the first \"n_components\" of your eigens using the sorted indexes\n",
    "    lambdas = eigvals[sorted_idxs]\n",
    "    vectors = eigvecs[:,:n_components]\n",
    "    \n",
    "    # Step 5: Compute the mean of the data\n",
    "    mean = np.mean(data)\n",
    "\n",
    "    return lambdas, vectors, mean"
   ]
  },
  {
   "cell_type": "code",
   "execution_count": 149,
   "metadata": {},
   "outputs": [],
   "source": [
    "def apply_PCA(data, lambdas, vectors, mean):\n",
    "    \"\"\"\n",
    "    Function to apply PCA to data\n",
    "    \"\"\"\n",
    "    # Step 1: Center the input data given the mean (hint: subtract)\n",
    "    centered_data = data - mean\n",
    "\n",
    "    # Step 2: project the centered data onto the selected eigenvectors\n",
    "    # Hint: dot product with the input vectors\n",
    "    reduced_data = centered_data @ vectors\n",
    "    return reduced_data"
   ]
  },
  {
   "cell_type": "code",
   "execution_count": 170,
   "metadata": {},
   "outputs": [],
   "source": [
    "def reconstruct_data(data, lambdas, vectors, mean):\n",
    "    \"\"\"\n",
    "    Function to reconstruct data from PCA\n",
    "    \"\"\"\n",
    "    # Step 1: project the data back to the original space\n",
    "    # Hint: dot product with the transpose of the vectors\n",
    "    projected_data = apply_PCA(data, lambdas, vectors, mean)\n",
    "\n",
    "    # Step 2: add the mean back to the projected data\n",
    "    reconstructed_data = (vectors @ pca.T) + mean\n",
    "    return reconstructed_data"
   ]
  },
  {
   "cell_type": "markdown",
   "metadata": {},
   "source": [
    "### (a) from the 10-class database, choose three classes (5, 6 and 8) and then reduce dimension to 2\n"
   ]
  },
  {
   "cell_type": "code",
   "execution_count": 80,
   "metadata": {},
   "outputs": [
    {
     "data": {
      "image/png": "[encoded data removed]",
      "text/plain": [
       "<Figure size 200x200 with 3 Axes>"
      ]
     },
     "metadata": {},
     "output_type": "display_data"
    }
   ],
   "source": [
    "# Visualize dataset\n",
    "fig, ax = plt.subplots(1, 3, figsize=(2,2))\n",
    "ax[0].imshow(np.reshape(train5[0], (28,28)), cmap=\"binary\")\n",
    "ax[0].set_xticks([])\n",
    "ax[0].set_yticks([])\n",
    "ax[1].imshow(np.reshape(train6[0], (28,28)), cmap=\"binary\")\n",
    "ax[1].set_xticks([])\n",
    "ax[1].set_yticks([])\n",
    "ax[2].imshow(np.reshape(train8[0], (28,28)), cmap=\"binary\")\n",
    "ax[2].set_xticks([])\n",
    "ax[2].set_yticks([])\n",
    "plt.show()"
   ]
  },
  {
   "cell_type": "code",
   "execution_count": 9,
   "metadata": {},
   "outputs": [],
   "source": [
    "# Merge data\n",
    "train = np.concatenate([train5, train6, train8], axis=0)\n",
    "test = np.concatenate([test5, test6, test8], axis=0)"
   ]
  },
  {
   "cell_type": "code",
   "execution_count": 171,
   "metadata": {},
   "outputs": [],
   "source": [
    "# PCA\n",
    "lambdas, vectors, mean = PCA_estimation(train, n_components=2)\n",
    "pca = apply_PCA(train, lambdas, vectors, mean)\n",
    "res_pca = reconstruct_data(train, lambdas, vectors, mean)"
   ]
  },
  {
   "cell_type": "code",
   "execution_count": null,
   "metadata": {},
   "outputs": [],
   "source": []
  },
  {
   "cell_type": "code",
   "execution_count": 177,
   "metadata": {},
   "outputs": [
    {
     "data": {
      "text/plain": [
       "[]"
      ]
     },
     "execution_count": 177,
     "metadata": {},
     "output_type": "execute_result"
    },
    {
     "data": {
      "image/png": "[encoded data removed]",
      "text/plain": [
       "<Figure size 200x200 with 3 Axes>"
      ]
     },
     "metadata": {},
     "output_type": "display_data"
    }
   ],
   "source": [
    "fig, ax = plt.subplots(1, 3, figsize=(2,2))\n",
    "ax[0].imshow(np.reshape(res_pca[:,0], (28,28)), cmap=\"binary\")\n",
    "ax[0].set_xticks([])\n",
    "ax[0].set_yticks([])"
   ]
  },
  {
   "cell_type": "markdown",
   "metadata": {},
   "source": [
    "### (b) perform 3-class classification based on the generated 2-dimensional data.\n",
    "\n",
    "**Use Gaussian Estimation to perform multiclass classification from yesterday's exercise. \n",
    "You can use any library (sklearn)/classifier you want)**"
   ]
  },
  {
   "cell_type": "code",
   "execution_count": 163,
   "metadata": {},
   "outputs": [],
   "source": [
    "# Functions\n",
    "def PCA(data, ncomp):\n",
    "    lambdas, vectors, mean = PCA_estimation(data, n_components=ncomp)\n",
    "    pca = apply_PCA(data, lambdas, vectors, mean)\n",
    "    res_pca = reconstruct_data(data, lambdas, vectors, mean)\n",
    "    return([pca, res_pca])"
   ]
  },
  {
   "cell_type": "code",
   "execution_count": 156,
   "metadata": {},
   "outputs": [],
   "source": [
    "## Transform data to PCA (2 dimensions)\n",
    "\n",
    "# Reduce data individually\n",
    "rd_train5 = PCA(train5, 2)\n",
    "rd_train6 = PCA(train6, 2)\n",
    "rd_train8 = PCA(train8, 2)"
   ]
  },
  {
   "cell_type": "code",
   "execution_count": 157,
   "metadata": {},
   "outputs": [],
   "source": [
    "# Compute prior distributions\n",
    "pp5 = train5.shape[0] / train.shape[0]\n",
    "pp6 = train6.shape[0] / train.shape[0]\n",
    "pp8 = train8.shape[0] / train.shape[0]"
   ]
  },
  {
   "cell_type": "code",
   "execution_count": 160,
   "metadata": {},
   "outputs": [
    {
     "ename": "LinAlgError",
     "evalue": "When `allow_singular is False`, the input matrix must be symmetric positive definite.",
     "output_type": "error",
     "traceback": [
      "\u001b[0;31m---------------------------------------------------------------------------\u001b[0m",
      "\u001b[0;31mLinAlgError\u001b[0m                               Traceback (most recent call last)",
      "Cell \u001b[0;32mIn[160], line 14\u001b[0m\n\u001b[1;32m     11\u001b[0m cov8 \u001b[38;5;241m=\u001b[39m np\u001b[38;5;241m.\u001b[39mcov(train8\u001b[38;5;241m.\u001b[39mT)\n\u001b[1;32m     13\u001b[0m \u001b[38;5;66;03m# Multivariate Gaussian\u001b[39;00m\n\u001b[0;32m---> 14\u001b[0m l5 \u001b[38;5;241m=\u001b[39m \u001b[43mnorm\u001b[49m\u001b[43m(\u001b[49m\u001b[43mmean\u001b[49m\u001b[43m \u001b[49m\u001b[38;5;241;43m=\u001b[39;49m\u001b[43m \u001b[49m\u001b[43mmean5\u001b[49m\u001b[43m,\u001b[49m\u001b[43m \u001b[49m\u001b[43mcov\u001b[49m\u001b[43m \u001b[49m\u001b[38;5;241;43m=\u001b[39;49m\u001b[43m \u001b[49m\u001b[43mcov5\u001b[49m\u001b[43m)\u001b[49m\n\u001b[1;32m     15\u001b[0m l6 \u001b[38;5;241m=\u001b[39m norm(mean \u001b[38;5;241m=\u001b[39m mean6, cov \u001b[38;5;241m=\u001b[39m cov6)\n\u001b[1;32m     16\u001b[0m l8 \u001b[38;5;241m=\u001b[39m norm(mean \u001b[38;5;241m=\u001b[39m mean8, cov \u001b[38;5;241m=\u001b[39m cov8)\n",
      "File \u001b[0;32m~/Software/miniconda3/envs/MLAAU/lib/python3.12/site-packages/scipy/stats/_multivariate.py:397\u001b[0m, in \u001b[0;36mmultivariate_normal_gen.__call__\u001b[0;34m(self, mean, cov, allow_singular, seed)\u001b[0m\n\u001b[1;32m    392\u001b[0m \u001b[38;5;28;01mdef\u001b[39;00m \u001b[38;5;21m__call__\u001b[39m(\u001b[38;5;28mself\u001b[39m, mean\u001b[38;5;241m=\u001b[39m\u001b[38;5;28;01mNone\u001b[39;00m, cov\u001b[38;5;241m=\u001b[39m\u001b[38;5;241m1\u001b[39m, allow_singular\u001b[38;5;241m=\u001b[39m\u001b[38;5;28;01mFalse\u001b[39;00m, seed\u001b[38;5;241m=\u001b[39m\u001b[38;5;28;01mNone\u001b[39;00m):\n\u001b[1;32m    393\u001b[0m \u001b[38;5;250m    \u001b[39m\u001b[38;5;124;03m\"\"\"Create a frozen multivariate normal distribution.\u001b[39;00m\n\u001b[1;32m    394\u001b[0m \n\u001b[1;32m    395\u001b[0m \u001b[38;5;124;03m    See `multivariate_normal_frozen` for more information.\u001b[39;00m\n\u001b[1;32m    396\u001b[0m \u001b[38;5;124;03m    \"\"\"\u001b[39;00m\n\u001b[0;32m--> 397\u001b[0m     \u001b[38;5;28;01mreturn\u001b[39;00m \u001b[43mmultivariate_normal_frozen\u001b[49m\u001b[43m(\u001b[49m\u001b[43mmean\u001b[49m\u001b[43m,\u001b[49m\u001b[43m \u001b[49m\u001b[43mcov\u001b[49m\u001b[43m,\u001b[49m\n\u001b[1;32m    398\u001b[0m \u001b[43m                                      \u001b[49m\u001b[43mallow_singular\u001b[49m\u001b[38;5;241;43m=\u001b[39;49m\u001b[43mallow_singular\u001b[49m\u001b[43m,\u001b[49m\n\u001b[1;32m    399\u001b[0m \u001b[43m                                      \u001b[49m\u001b[43mseed\u001b[49m\u001b[38;5;241;43m=\u001b[39;49m\u001b[43mseed\u001b[49m\u001b[43m)\u001b[49m\n",
      "File \u001b[0;32m~/Software/miniconda3/envs/MLAAU/lib/python3.12/site-packages/scipy/stats/_multivariate.py:903\u001b[0m, in \u001b[0;36mmultivariate_normal_frozen.__init__\u001b[0;34m(self, mean, cov, allow_singular, seed, maxpts, abseps, releps)\u001b[0m\n\u001b[1;32m    860\u001b[0m \u001b[38;5;250m\u001b[39m\u001b[38;5;124;03m\"\"\"Create a frozen multivariate normal distribution.\u001b[39;00m\n\u001b[1;32m    861\u001b[0m \n\u001b[1;32m    862\u001b[0m \u001b[38;5;124;03mParameters\u001b[39;00m\n\u001b[0;32m   (...)\u001b[0m\n\u001b[1;32m    899\u001b[0m \n\u001b[1;32m    900\u001b[0m \u001b[38;5;124;03m\"\"\"\u001b[39;00m \u001b[38;5;66;03m# numpy/numpydoc#87  # noqa: E501\u001b[39;00m\n\u001b[1;32m    901\u001b[0m \u001b[38;5;28mself\u001b[39m\u001b[38;5;241m.\u001b[39m_dist \u001b[38;5;241m=\u001b[39m multivariate_normal_gen(seed)\n\u001b[1;32m    902\u001b[0m \u001b[38;5;28mself\u001b[39m\u001b[38;5;241m.\u001b[39mdim, \u001b[38;5;28mself\u001b[39m\u001b[38;5;241m.\u001b[39mmean, \u001b[38;5;28mself\u001b[39m\u001b[38;5;241m.\u001b[39mcov_object \u001b[38;5;241m=\u001b[39m (\n\u001b[0;32m--> 903\u001b[0m     \u001b[38;5;28;43mself\u001b[39;49m\u001b[38;5;241;43m.\u001b[39;49m\u001b[43m_dist\u001b[49m\u001b[38;5;241;43m.\u001b[39;49m\u001b[43m_process_parameters\u001b[49m\u001b[43m(\u001b[49m\u001b[43mmean\u001b[49m\u001b[43m,\u001b[49m\u001b[43m \u001b[49m\u001b[43mcov\u001b[49m\u001b[43m,\u001b[49m\u001b[43m \u001b[49m\u001b[43mallow_singular\u001b[49m\u001b[43m)\u001b[49m)\n\u001b[1;32m    904\u001b[0m \u001b[38;5;28mself\u001b[39m\u001b[38;5;241m.\u001b[39mallow_singular \u001b[38;5;241m=\u001b[39m allow_singular \u001b[38;5;129;01mor\u001b[39;00m \u001b[38;5;28mself\u001b[39m\u001b[38;5;241m.\u001b[39mcov_object\u001b[38;5;241m.\u001b[39m_allow_singular\n\u001b[1;32m    905\u001b[0m \u001b[38;5;28;01mif\u001b[39;00m \u001b[38;5;129;01mnot\u001b[39;00m maxpts:\n",
      "File \u001b[0;32m~/Software/miniconda3/envs/MLAAU/lib/python3.12/site-packages/scipy/stats/_multivariate.py:421\u001b[0m, in \u001b[0;36mmultivariate_normal_gen._process_parameters\u001b[0;34m(self, mean, cov, allow_singular)\u001b[0m\n\u001b[1;32m    414\u001b[0m dim, mean, cov \u001b[38;5;241m=\u001b[39m \u001b[38;5;28mself\u001b[39m\u001b[38;5;241m.\u001b[39m_process_parameters_psd(\u001b[38;5;28;01mNone\u001b[39;00m, mean, cov)\n\u001b[1;32m    415\u001b[0m \u001b[38;5;66;03m# After input validation, some methods then processed the arrays\u001b[39;00m\n\u001b[1;32m    416\u001b[0m \u001b[38;5;66;03m# with a `_PSD` object and used that to perform computation.\u001b[39;00m\n\u001b[1;32m    417\u001b[0m \u001b[38;5;66;03m# To avoid branching statements in each method depending on whether\u001b[39;00m\n\u001b[1;32m    418\u001b[0m \u001b[38;5;66;03m# `cov` is an array or `Covariance` object, we always process the\u001b[39;00m\n\u001b[1;32m    419\u001b[0m \u001b[38;5;66;03m# array with `_PSD`, and then use wrapper that satisfies the\u001b[39;00m\n\u001b[1;32m    420\u001b[0m \u001b[38;5;66;03m# `Covariance` interface, `CovViaPSD`.\u001b[39;00m\n\u001b[0;32m--> 421\u001b[0m psd \u001b[38;5;241m=\u001b[39m \u001b[43m_PSD\u001b[49m\u001b[43m(\u001b[49m\u001b[43mcov\u001b[49m\u001b[43m,\u001b[49m\u001b[43m \u001b[49m\u001b[43mallow_singular\u001b[49m\u001b[38;5;241;43m=\u001b[39;49m\u001b[43mallow_singular\u001b[49m\u001b[43m)\u001b[49m\n\u001b[1;32m    422\u001b[0m cov_object \u001b[38;5;241m=\u001b[39m _covariance\u001b[38;5;241m.\u001b[39mCovViaPSD(psd)\n\u001b[1;32m    423\u001b[0m \u001b[38;5;28;01mreturn\u001b[39;00m dim, mean, cov_object\n",
      "File \u001b[0;32m~/Software/miniconda3/envs/MLAAU/lib/python3.12/site-packages/scipy/stats/_multivariate.py:174\u001b[0m, in \u001b[0;36m_PSD.__init__\u001b[0;34m(self, M, cond, rcond, lower, check_finite, allow_singular)\u001b[0m\n\u001b[1;32m    171\u001b[0m \u001b[38;5;28;01mif\u001b[39;00m \u001b[38;5;28mlen\u001b[39m(d) \u001b[38;5;241m<\u001b[39m \u001b[38;5;28mlen\u001b[39m(s) \u001b[38;5;129;01mand\u001b[39;00m \u001b[38;5;129;01mnot\u001b[39;00m allow_singular:\n\u001b[1;32m    172\u001b[0m     msg \u001b[38;5;241m=\u001b[39m (\u001b[38;5;124m\"\u001b[39m\u001b[38;5;124mWhen `allow_singular is False`, the input matrix must be \u001b[39m\u001b[38;5;124m\"\u001b[39m\n\u001b[1;32m    173\u001b[0m            \u001b[38;5;124m\"\u001b[39m\u001b[38;5;124msymmetric positive definite.\u001b[39m\u001b[38;5;124m\"\u001b[39m)\n\u001b[0;32m--> 174\u001b[0m     \u001b[38;5;28;01mraise\u001b[39;00m np\u001b[38;5;241m.\u001b[39mlinalg\u001b[38;5;241m.\u001b[39mLinAlgError(msg)\n\u001b[1;32m    175\u001b[0m s_pinv \u001b[38;5;241m=\u001b[39m _pinv_1d(s, eps)\n\u001b[1;32m    176\u001b[0m U \u001b[38;5;241m=\u001b[39m np\u001b[38;5;241m.\u001b[39mmultiply(u, np\u001b[38;5;241m.\u001b[39msqrt(s_pinv))\n",
      "\u001b[0;31mLinAlgError\u001b[0m: When `allow_singular is False`, the input matrix must be symmetric positive definite."
     ]
    }
   ],
   "source": [
    "## Compute parameters\n",
    "\n",
    "# Means\n",
    "mean5 = np.mean(train5, axis=0)\n",
    "mean6 = np.mean(train6, axis=0)\n",
    "mean8 = np.mean(train8, axis=0)\n",
    "\n",
    "# Covariances\n",
    "cov5 = np.cov(train5.T)\n",
    "cov6 = np.cov(train6.T)\n",
    "cov8 = np.cov(train8.T)\n",
    "\n",
    "# Multivariate Gaussian\n",
    "l5 = norm(mean = mean5, cov = cov5)\n",
    "l6 = norm(mean = mean6, cov = cov6)\n",
    "l8 = norm(mean = mean8, cov = cov8)"
   ]
  },
  {
   "cell_type": "code",
   "execution_count": null,
   "metadata": {},
   "outputs": [],
   "source": [
    "# Posterior probabilities\n",
    "postprob = np.array([pp5 * l5.pdf(test), pp6 * l6.pdf(test), pp8 * l8.pdf(test)]).T"
   ]
  },
  {
   "cell_type": "code",
   "execution_count": null,
   "metadata": {},
   "outputs": [],
   "source": [
    "# Classification\n",
    "cls = [1 if i[0] > i[1] else 2 for i in postprob]\n",
    "total = len(test)"
   ]
  },
  {
   "cell_type": "code",
   "execution_count": null,
   "metadata": {},
   "outputs": [],
   "source": [
    "acc = np.sum([1 for i,j in zip(cls, test) if i == j]) / len(test) * 100\n",
    "print(f\"Accurracy is equal to {np.round(acc,2)}%\")"
   ]
  },
  {
   "cell_type": "markdown",
   "metadata": {},
   "source": [
    "### [Optional] Exercises for Lecture 5 Clustering:  This assignment is based on the previously generated 2-dimensional data of the three classes (5, 6 and 8) from the MNIST database of handwritten digits. First, mix the 2-dimensional data (training data only) by removing the labels and then use one Gaussian mixture model to model them. Secondly, compare the Gaussian mixture model with the Gaussian models trained in the previous assignment, in terms of mean and variance values as well as through visualisation."
   ]
  }
 ],
 "metadata": {
  "kernelspec": {
   "display_name": "MLAAU",
   "language": "python",
   "name": "python3"
  },
  "language_info": {
   "name": "python",
   "version": "3.12.2"
  }
 },
 "nbformat": 4,
 "nbformat_minor": 2
}
